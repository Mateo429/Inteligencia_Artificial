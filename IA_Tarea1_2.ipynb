{
  "nbformat": 4,
  "nbformat_minor": 0,
  "metadata": {
    "colab": {
      "provenance": [],
      "include_colab_link": true
    },
    "kernelspec": {
      "name": "python3",
      "display_name": "Python 3"
    },
    "language_info": {
      "name": "python"
    }
  },
  "cells": [
    {
      "cell_type": "markdown",
      "metadata": {
        "id": "view-in-github",
        "colab_type": "text"
      },
      "source": [
        "<a href=\"https://colab.research.google.com/github/Mateo429/Inteligencia_Artificial/blob/main/IA_Tarea1_2.ipynb\" target=\"_parent\"><img src=\"https://colab.research.google.com/assets/colab-badge.svg\" alt=\"Open In Colab\"/></a>"
      ]
    },
    {
      "cell_type": "code",
      "source": [
        "#Importamos las librerías necesarias para analizar la base de datos.\n",
        "import pandas as pd\n",
        "import matplotlib.pyplot as plt\n",
        "#Se declara una variable que va a contener los datos.\n",
        "iris = \"/content/iris.csv\""
      ],
      "metadata": {
        "id": "_lUqEOtQh39c"
      },
      "execution_count": null,
      "outputs": []
    },
    {
      "cell_type": "code",
      "source": [
        "class Estadisticas:\n",
        "  def __init__(self):\n",
        "        self.data_frame = pd.read_csv(iris).drop('variety',axis=1) #El método constructor declara el dataframe como una variable de pandas.\n",
        "\n",
        "  def Est_resumen(self):\n",
        "      self.Resumen = self.data_frame.describe() #Se crea un método que al invocarlo sobre la instancia proporciona un resumen estadístico de la base de\n",
        "                                                #de datos.\n",
        "      print(self.Resumen)\n",
        "\n",
        "  def Variables(self):  #Este método imprime en pantalla las variables disponibles en la base de datos.\n",
        "      self.Vars = self.data_frame.columns.values\n",
        "      print(self.Vars)\n",
        "\n",
        "  def Ests(self,var): # Dada una variable, este método retorna las estadísticas asociadas a este.\n",
        "      self.var = var\n",
        "      self.Media = round(self.data_frame[self.var].mean(),2)\n",
        "      self.Mediana = round(self.data_frame[self.var].median(),2)\n",
        "      self.Desviación = round(self.data_frame[self.var].std(),2)\n",
        "      self.Q1 = round(self.data_frame[self.var].quantile(0.25),2)\n",
        "      self.Q2 = round(self.data_frame[self.var].quantile(0.5),2)\n",
        "      self.Q3 = round(self.data_frame[self.var].quantile(0.75),2)\n",
        "      self.Hist = plt.hist(self.data_frame[self.var], bins=5, color='yellow', edgecolor='black')\n",
        "      plt.xlabel(self.var)\n",
        "      plt.ylabel('Frecuencia')\n",
        "      plt.title('Histograma')\n",
        "      print(\"Variable=\",self.var,\"Media=\",self.Media,\"Mediana=\",self.Mediana, \"Desviación=\",self.Desviación,\n",
        "            \"Q1=\",self.Q1,\"Q2=\",self.Q2,\"Q3=\",self.Q3)\n",
        "      plt.show()"
      ],
      "metadata": {
        "id": "29f7s50xvNyl"
      },
      "execution_count": null,
      "outputs": []
    },
    {
      "cell_type": "code",
      "source": [
        "pet = Estadisticas()\n",
        "pet.Est_resumen()\n",
        "pet.Variables()\n",
        "pet.Ests(\"petal.length\")"
      ],
      "metadata": {
        "id": "SmUsyL1srUg-",
        "outputId": "2244c624-3daa-4b51-f698-b75341bf5af3",
        "colab": {
          "base_uri": "https://localhost:8080/",
          "height": 663
        }
      },
      "execution_count": null,
      "outputs": [
        {
          "output_type": "stream",
          "name": "stdout",
          "text": [
            "       sepal.length  sepal.width  petal.length  petal.width\n",
            "count    150.000000   150.000000    150.000000   150.000000\n",
            "mean       5.843333     3.057333      3.758000     1.199333\n",
            "std        0.828066     0.435866      1.765298     0.762238\n",
            "min        4.300000     2.000000      1.000000     0.100000\n",
            "25%        5.100000     2.800000      1.600000     0.300000\n",
            "50%        5.800000     3.000000      4.350000     1.300000\n",
            "75%        6.400000     3.300000      5.100000     1.800000\n",
            "max        7.900000     4.400000      6.900000     2.500000\n",
            "['sepal.length' 'sepal.width' 'petal.length' 'petal.width']\n",
            "Variable= petal.length Media= 3.76 Mediana= 4.35 Desviación= 1.77 Q1= 1.6 Q2= 4.35 Q3= 5.1\n"
          ]
        },
        {
          "output_type": "display_data",
          "data": {
            "text/plain": [
              "<Figure size 640x480 with 1 Axes>"
            ],
            "image/png": "[encoded data removed]"
          },
          "metadata": {}
        }
      ]
    },
    {
      "cell_type": "code",
      "source": [],
      "metadata": {
        "id": "aDprTwcLk8Dc"
      },
      "execution_count": null,
      "outputs": []
    }
  ]
}